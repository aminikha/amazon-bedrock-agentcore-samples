{
 "cells": [
  {
   "cell_type": "markdown",
   "id": "0162b484-20c1-448b-9b13-dc35a2fb5435",
   "metadata": {},
   "source": [
    "## All Imports"
   ]
  },
  {
   "cell_type": "code",
   "execution_count": 1,
   "id": "1d61fb2e-c112-4c34-a303-236c8986b077",
   "metadata": {},
   "outputs": [],
   "source": [
    "import boto3\n",
    "import json\n",
    "import uuid\n",
    "import time\n",
    "from datetime import datetime, timedelta\n",
    "from evaluation import *\n",
    "\n",
    "from helper import get_logs_by_trace_id, list_agentcore_agents, invoke_agentcore, generate_xray_trace_id, extract_tools_info"
   ]
  },
  {
   "cell_type": "markdown",
   "id": "d38f4e71-2021-4634-b282-3deb90390692",
   "metadata": {},
   "source": [
    "## List Agents deployed into AgentCore "
   ]
  },
  {
   "cell_type": "code",
   "execution_count": 2,
   "id": "b29120ea-cad3-4ab1-a958-a1fbd3404742",
   "metadata": {},
   "outputs": [
    {
     "name": "stdout",
     "output_type": "stream",
     "text": [
      "{'agentRuntimeArn': 'arn:aws:bedrock-agentcore:us-east-1:009160068426:runtime/hr_agent-5wn3W1CtXt', 'agentRuntimeId': 'hr_agent-5wn3W1CtXt', 'agentRuntimeVersion': '3', 'agentRuntimeName': 'hr_agent', 'lastUpdatedAt': datetime.datetime(2025, 9, 25, 16, 41, 39, 382681, tzinfo=tzlocal()), 'status': 'READY'}\n",
      "{'agentRuntimeArn': 'arn:aws:bedrock-agentcore:us-east-1:009160068426:runtime/nova_act_agent-VYi1xp90Z3', 'agentRuntimeId': 'nova_act_agent-VYi1xp90Z3', 'agentRuntimeVersion': '19', 'agentRuntimeName': 'nova_act_agent', 'lastUpdatedAt': datetime.datetime(2025, 10, 9, 14, 20, 41, 417682, tzinfo=tzlocal()), 'status': 'READY'}\n"
     ]
    }
   ],
   "source": [
    "agents = list_agentcore_agents()\n",
    "for agent in agents:\n",
    "    print(agent)"
   ]
  },
  {
   "cell_type": "markdown",
   "id": "34ab7460-a465-4974-b0f0-ac73c337ee11",
   "metadata": {},
   "source": [
    "## Invoke Agent from AgentCore"
   ]
  },
  {
   "cell_type": "code",
   "execution_count": 3,
   "id": "202d1fcf-8ff0-445b-99d9-26d21c23e9c0",
   "metadata": {},
   "outputs": [],
   "source": [
    "# Agent parameters\n",
    "i = 0\n",
    "agent_arn = agents[0]['agentRuntimeArn']\n",
    "agent_id = agents[0]['agentRuntimeId']\n",
    "agent_version = \"DEFAULT\"\n",
    "session_id = '1b991598-747b-4c3a-890c-a29bc1a0eb69'\n",
    "trace_id = generate_xray_trace_id()\n"
   ]
  },
  {
   "cell_type": "code",
   "execution_count": 4,
   "id": "82c48911-40ee-4b67-9a91-466109d5b840",
   "metadata": {},
   "outputs": [],
   "source": [
    "# Question and Groundtruth\n",
    "\n",
    "question = \"Tell me about my leave benefits\"\n",
    "GT_answer = \"You have 12 vacation days remaining from overall 20 vacation days and 5 sick days\"\n",
    "GT_tools = ['get_vacation_info']\n",
    "GT_Tool_Args = [[]]\n"
   ]
  },
  {
   "cell_type": "code",
   "execution_count": 5,
   "id": "9c05ac77-e750-4801-bca3-22e45bb8be3f",
   "metadata": {},
   "outputs": [
    {
     "name": "stdout",
     "output_type": "stream",
     "text": [
      "No logs found for trace ID: 68ec637e9c19a6f5d9fd4b54a52b704e - waiting 5 more seconds ...\n",
      "No logs found for trace ID: 68ec637e9c19a6f5d9fd4b54a52b704e - waiting 5 more seconds ...\n",
      "No logs found for trace ID: 68ec637e9c19a6f5d9fd4b54a52b704e - waiting 5 more seconds ...\n",
      "No logs found for trace ID: 68ec637e9c19a6f5d9fd4b54a52b704e - waiting 5 more seconds ...\n",
      "No logs found for trace ID: 68ec637e9c19a6f5d9fd4b54a52b704e - waiting 5 more seconds ...\n"
     ]
    }
   ],
   "source": [
    "# invoke the agent\n",
    "response_obj = invoke_agentcore(agent_arn, agent_id, agent_version, question, session_id, trace_id)\n"
   ]
  },
  {
   "cell_type": "code",
   "execution_count": 6,
   "id": "163d26e5-fc30-4f38-87f0-ff19bd5d1583",
   "metadata": {},
   "outputs": [],
   "source": [
    "called_tools_list, called_tools_args, called_tools_ans = extract_tools_info(response_obj['trace'])\n",
    "responses = [response_obj['final_response']]\n",
    "latency = response_obj['latency']\n",
    "res_df = pd.DataFrame(columns = ['Questions', 'Tools', 'Arguments', 'Expected Output', \n",
    "                                 'called_tools','called_tools_args', 'called_tools_ans',\n",
    "                                 'responses', 'final_answer', 'latency', \n",
    "                                 'input_tokens', 'output_tokens', 'ground_truths'])\n",
    "res_df.loc[0] = [question, GT_tools, GT_Tool_Args, GT_answer,\n",
    "                called_tools_list, called_tools_args, called_tools_ans,\n",
    "                responses, responses[0], latency, 0, 0 , [GT_answer]]"
   ]
  },
  {
   "cell_type": "code",
   "execution_count": 7,
   "id": "2b4d9420-788d-4a8a-9f06-5a1ac7df3cb7",
   "metadata": {},
   "outputs": [
    {
     "name": "stdout",
     "output_type": "stream",
     "text": [
      "##### available_tools fetch_user_flight_information, search_flights, update_ticket_to_new_flight, cancel_ticket, search_car_rentals, book_car_rental, update_car_rental, cancel_car_rental, search_hotels, book_hotel, update_hotel, cancel_hotel, search_trip_recommendations, book_excursion, update_excursion, cancel_excursion\n"
     ]
    },
    {
     "name": "stderr",
     "output_type": "stream",
     "text": [
      "/home/ec2-user/SageMaker/AEF/frontend/notebooks/evaluation.py:856: LangChainDeprecationWarning: The class `BedrockEmbeddings` was deprecated in LangChain 0.2.11 and will be removed in 1.0. An updated version of the class exists in the :class:`~langchain-aws package and should be used instead. To use it run `pip install -U :class:`~langchain-aws` and import as `from :class:`~langchain_aws import BedrockEmbeddings``.\n",
      "  bedrock_embeddings = BedrockEmbeddings(model_id=eval_embedId)\n"
     ]
    },
    {
     "data": {
      "application/vnd.jupyter.widget-view+json": {
       "model_id": "2ad8f7290fe74a7ca498fc4c0a07ce5d",
       "version_major": 2,
       "version_minor": 0
      },
      "text/plain": [
       "Evaluating:   0%|          | 0/4 [00:00<?, ?it/s]"
      ]
     },
     "metadata": {},
     "output_type": "display_data"
    }
   ],
   "source": [
    "metric_list = [\"missed_tool_pct\",\n",
    "               \"tools_args_acc\",\n",
    "               \"response_acc_llm_judge\",\n",
    "               \"answer_precision\",\n",
    "               \"answer_recall\",\n",
    "               \"answer_correctness\",\n",
    "               \"answer_similarity\",\n",
    "               \"answer_relevancy\",\n",
    "               \"tool_calling_accuracy\"\n",
    "              ]\n",
    "available_tools = \"fetch_user_flight_information, search_flights, update_ticket_to_new_flight, cancel_ticket, search_car_rentals, book_car_rental, update_car_rental, cancel_car_rental, search_hotels, book_hotel, update_hotel, cancel_hotel, search_trip_recommendations, book_excursion, update_excursion, cancel_excursion\"\n",
    "eval_res = calc_metrics(res_df, metric_list, available_tools=available_tools)\n"
   ]
  },
  {
   "cell_type": "code",
   "execution_count": 8,
   "id": "3aabfaf6-18b3-4428-9b05-a9d7d662b4cb",
   "metadata": {},
   "outputs": [
    {
     "data": {
      "text/html": [
       "<div>\n",
       "<style scoped>\n",
       "    .dataframe tbody tr th:only-of-type {\n",
       "        vertical-align: middle;\n",
       "    }\n",
       "\n",
       "    .dataframe tbody tr th {\n",
       "        vertical-align: top;\n",
       "    }\n",
       "\n",
       "    .dataframe thead th {\n",
       "        text-align: right;\n",
       "    }\n",
       "</style>\n",
       "<table border=\"1\" class=\"dataframe\">\n",
       "  <thead>\n",
       "    <tr style=\"text-align: right;\">\n",
       "      <th></th>\n",
       "      <th>Questions</th>\n",
       "      <th>missed_tool_pct</th>\n",
       "      <th>tools_args_acc</th>\n",
       "      <th>response_acc_llm_judge</th>\n",
       "      <th>answer_precision</th>\n",
       "      <th>answer_recall</th>\n",
       "      <th>answer_correctness</th>\n",
       "      <th>answer_similarity</th>\n",
       "      <th>answer_relevancy</th>\n",
       "      <th>tool_calling_accuracy</th>\n",
       "    </tr>\n",
       "  </thead>\n",
       "  <tbody>\n",
       "    <tr>\n",
       "      <th>0</th>\n",
       "      <td>Tell me about my leave benefits</td>\n",
       "      <td>1.0</td>\n",
       "      <td>1</td>\n",
       "      <td>0.9</td>\n",
       "      <td>0.0</td>\n",
       "      <td>0.333333</td>\n",
       "      <td>0.480951</td>\n",
       "      <td>0.723806</td>\n",
       "      <td>0.9</td>\n",
       "      <td>0.0</td>\n",
       "    </tr>\n",
       "  </tbody>\n",
       "</table>\n",
       "</div>"
      ],
      "text/plain": [
       "                         Questions  missed_tool_pct  tools_args_acc  \\\n",
       "0  Tell me about my leave benefits              1.0               1   \n",
       "\n",
       "   response_acc_llm_judge  answer_precision  answer_recall  \\\n",
       "0                     0.9               0.0       0.333333   \n",
       "\n",
       "   answer_correctness  answer_similarity  answer_relevancy  \\\n",
       "0            0.480951           0.723806               0.9   \n",
       "\n",
       "   tool_calling_accuracy  \n",
       "0                    0.0  "
      ]
     },
     "execution_count": 8,
     "metadata": {},
     "output_type": "execute_result"
    }
   ],
   "source": [
    "eval_res[[\"Questions\"]+metric_list]"
   ]
  },
  {
   "cell_type": "code",
   "execution_count": null,
   "id": "aa71ddb0-6028-4ba3-b588-353ae3750bbb",
   "metadata": {},
   "outputs": [],
   "source": []
  }
 ],
 "metadata": {
  "kernelspec": {
   "display_name": "conda_python3",
   "language": "python",
   "name": "conda_python3"
  },
  "language_info": {
   "codemirror_mode": {
    "name": "ipython",
    "version": 3
   },
   "file_extension": ".py",
   "mimetype": "text/x-python",
   "name": "python",
   "nbconvert_exporter": "python",
   "pygments_lexer": "ipython3",
   "version": "3.10.18"
  }
 },
 "nbformat": 4,
 "nbformat_minor": 5
}
